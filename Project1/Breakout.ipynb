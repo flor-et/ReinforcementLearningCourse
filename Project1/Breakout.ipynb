{
 "cells": [
  {
   "cell_type": "markdown",
   "id": "217cdb2c-ad00-4499-a358-04373bd36c50",
   "metadata": {},
   "source": [
    "# Import Dependencies\n",
    "---"
   ]
  },
  {
   "cell_type": "code",
   "execution_count": 1,
   "id": "2cfae30f-8809-4f32-b45d-7056c3bbfa20",
   "metadata": {},
   "outputs": [],
   "source": [
    "import gym \n",
    "from stable_baselines3 import A2C\n",
    "from stable_baselines3.common.vec_env import VecFrameStack\n",
    "from stable_baselines3.common.evaluation import evaluate_policy\n",
    "from stable_baselines3.common.env_util import make_atari_env\n",
    "import os"
   ]
  },
  {
   "cell_type": "markdown",
   "id": "ec5da0da-ee74-4979-bbc6-333ebd98b94b",
   "metadata": {},
   "source": [
    "# Test Environment"
   ]
  },
  {
   "cell_type": "code",
   "execution_count": 2,
   "id": "3606e6e6-10cf-4818-ac2f-c3301fa19717",
   "metadata": {},
   "outputs": [
    {
     "name": "stdout",
     "output_type": "stream",
     "text": [
      "copying breakout.bin from ./ROMS\\Breakout - Breakaway IV (Paddle) (1978) (Atari, Brad Stewart - Sears) (CX2622 - 6-99813, 49-75107) ~.bin to C:\\Users\\Jasmi\\anaconda3\\lib\\site-packages\\atari_py\\atari_roms\\breakout.bin\n"
     ]
    }
   ],
   "source": [
    "!python -m atari_py.import_roms ./ROMS"
   ]
  },
  {
   "cell_type": "markdown",
   "id": "11885dec-4ccf-4fe7-a68c-5974b03260a3",
   "metadata": {},
   "source": [
    "# Vectorize Environment and Train Model"
   ]
  },
  {
   "cell_type": "code",
   "execution_count": null,
   "id": "335feb36-9e80-4701-be39-3867286c557e",
   "metadata": {},
   "outputs": [],
   "source": []
  },
  {
   "cell_type": "markdown",
   "id": "e1701d00-40d4-4424-9460-ca9569b4d1e0",
   "metadata": {},
   "source": [
    "# Save and Reload Model"
   ]
  },
  {
   "cell_type": "code",
   "execution_count": null,
   "id": "b0c3ac51-531f-4c7c-9995-7558c6b22926",
   "metadata": {},
   "outputs": [],
   "source": []
  },
  {
   "cell_type": "markdown",
   "id": "6bc7281e-0ac8-433c-ac84-5ccd9be717ce",
   "metadata": {},
   "source": [
    "# Evaluate and Test"
   ]
  },
  {
   "cell_type": "code",
   "execution_count": null,
   "id": "88a77976-bfbb-48f6-a89b-6045f91c08ce",
   "metadata": {},
   "outputs": [],
   "source": []
  }
 ],
 "metadata": {
  "kernelspec": {
   "display_name": "Python 3 (ipykernel)",
   "language": "python",
   "name": "python3"
  },
  "language_info": {
   "codemirror_mode": {
    "name": "ipython",
    "version": 3
   },
   "file_extension": ".py",
   "mimetype": "text/x-python",
   "name": "python",
   "nbconvert_exporter": "python",
   "pygments_lexer": "ipython3",
   "version": "3.10.9"
  }
 },
 "nbformat": 4,
 "nbformat_minor": 5
}
